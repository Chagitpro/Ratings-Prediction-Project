{
 "cells": [
  {
   "cell_type": "code",
   "execution_count": 1,
   "id": "2c3a7131",
   "metadata": {},
   "outputs": [],
   "source": [
    "import pandas as pd\n",
    "import numpy as np\n",
    "import seaborn as sns\n",
    "import matplotlib.pyplot as plt\n",
    "%matplotlib inline\n",
    "import warnings\n",
    "warnings.filterwarnings('ignore')"
   ]
  },
  {
   "cell_type": "code",
   "execution_count": 2,
   "id": "0a45b6d8",
   "metadata": {},
   "outputs": [],
   "source": [
    "rating= pd.read_csv(\"Rating Prediction dataset.csv\")"
   ]
  },
  {
   "cell_type": "code",
   "execution_count": 3,
   "id": "2d4a618f",
   "metadata": {},
   "outputs": [
    {
     "data": {
      "text/html": [
       "<div>\n",
       "<style scoped>\n",
       "    .dataframe tbody tr th:only-of-type {\n",
       "        vertical-align: middle;\n",
       "    }\n",
       "\n",
       "    .dataframe tbody tr th {\n",
       "        vertical-align: top;\n",
       "    }\n",
       "\n",
       "    .dataframe thead th {\n",
       "        text-align: right;\n",
       "    }\n",
       "</style>\n",
       "<table border=\"1\" class=\"dataframe\">\n",
       "  <thead>\n",
       "    <tr style=\"text-align: right;\">\n",
       "      <th></th>\n",
       "      <th>Unnamed: 0</th>\n",
       "      <th>Product_Review</th>\n",
       "      <th>Ratings</th>\n",
       "    </tr>\n",
       "  </thead>\n",
       "  <tbody>\n",
       "    <tr>\n",
       "      <th>0</th>\n",
       "      <td>0</td>\n",
       "      <td>It has great sound quality and bass but after ...</td>\n",
       "      <td>1.0</td>\n",
       "    </tr>\n",
       "    <tr>\n",
       "      <th>1</th>\n",
       "      <td>1</td>\n",
       "      <td>[BIG UPDATE]IT BROKE ALONG THE RIGHT HINGE, I ...</td>\n",
       "      <td>2.0</td>\n",
       "    </tr>\n",
       "    <tr>\n",
       "      <th>2</th>\n",
       "      <td>2</td>\n",
       "      <td>This is a premium quality product from boAt-Li...</td>\n",
       "      <td>5.0</td>\n",
       "    </tr>\n",
       "    <tr>\n",
       "      <th>3</th>\n",
       "      <td>3</td>\n",
       "      <td>The boAt Rockerz line is boAt's super cheap li...</td>\n",
       "      <td>1.0</td>\n",
       "    </tr>\n",
       "    <tr>\n",
       "      <th>4</th>\n",
       "      <td>4</td>\n",
       "      <td>These are super comfortable and premium lookin...</td>\n",
       "      <td>5.0</td>\n",
       "    </tr>\n",
       "  </tbody>\n",
       "</table>\n",
       "</div>"
      ],
      "text/plain": [
       "   Unnamed: 0                                     Product_Review  Ratings\n",
       "0           0  It has great sound quality and bass but after ...      1.0\n",
       "1           1  [BIG UPDATE]IT BROKE ALONG THE RIGHT HINGE, I ...      2.0\n",
       "2           2  This is a premium quality product from boAt-Li...      5.0\n",
       "3           3  The boAt Rockerz line is boAt's super cheap li...      1.0\n",
       "4           4  These are super comfortable and premium lookin...      5.0"
      ]
     },
     "execution_count": 3,
     "metadata": {},
     "output_type": "execute_result"
    }
   ],
   "source": [
    "rating.head()"
   ]
  },
  {
   "cell_type": "code",
   "execution_count": 4,
   "id": "1d23704a",
   "metadata": {},
   "outputs": [
    {
     "data": {
      "text/html": [
       "<div>\n",
       "<style scoped>\n",
       "    .dataframe tbody tr th:only-of-type {\n",
       "        vertical-align: middle;\n",
       "    }\n",
       "\n",
       "    .dataframe tbody tr th {\n",
       "        vertical-align: top;\n",
       "    }\n",
       "\n",
       "    .dataframe thead th {\n",
       "        text-align: right;\n",
       "    }\n",
       "</style>\n",
       "<table border=\"1\" class=\"dataframe\">\n",
       "  <thead>\n",
       "    <tr style=\"text-align: right;\">\n",
       "      <th></th>\n",
       "      <th>Unnamed: 0</th>\n",
       "      <th>Product_Review</th>\n",
       "      <th>Ratings</th>\n",
       "    </tr>\n",
       "  </thead>\n",
       "  <tbody>\n",
       "    <tr>\n",
       "      <th>49995</th>\n",
       "      <td>49995</td>\n",
       "      <td>Honest rating for this product is 5/5 . Just f...</td>\n",
       "      <td>4.0</td>\n",
       "    </tr>\n",
       "    <tr>\n",
       "      <th>49996</th>\n",
       "      <td>49996</td>\n",
       "      <td>I have bought 3 of these little guys, for my s...</td>\n",
       "      <td>5.0</td>\n",
       "    </tr>\n",
       "    <tr>\n",
       "      <th>49997</th>\n",
       "      <td>49997</td>\n",
       "      <td>Its a great product. Works really fine. It wil...</td>\n",
       "      <td>4.0</td>\n",
       "    </tr>\n",
       "    <tr>\n",
       "      <th>49998</th>\n",
       "      <td>49998</td>\n",
       "      <td>Service is very good , I would say to keep up ...</td>\n",
       "      <td>5.0</td>\n",
       "    </tr>\n",
       "    <tr>\n",
       "      <th>49999</th>\n",
       "      <td>49999</td>\n",
       "      <td>Just buy it if u need bigger coverage buy a re...</td>\n",
       "      <td>5.0</td>\n",
       "    </tr>\n",
       "  </tbody>\n",
       "</table>\n",
       "</div>"
      ],
      "text/plain": [
       "       Unnamed: 0                                     Product_Review  Ratings\n",
       "49995       49995  Honest rating for this product is 5/5 . Just f...      4.0\n",
       "49996       49996  I have bought 3 of these little guys, for my s...      5.0\n",
       "49997       49997  Its a great product. Works really fine. It wil...      4.0\n",
       "49998       49998  Service is very good , I would say to keep up ...      5.0\n",
       "49999       49999  Just buy it if u need bigger coverage buy a re...      5.0"
      ]
     },
     "execution_count": 4,
     "metadata": {},
     "output_type": "execute_result"
    }
   ],
   "source": [
    "rating.tail()"
   ]
  },
  {
   "cell_type": "code",
   "execution_count": 5,
   "id": "950d4734",
   "metadata": {},
   "outputs": [
    {
     "data": {
      "text/html": [
       "<div>\n",
       "<style scoped>\n",
       "    .dataframe tbody tr th:only-of-type {\n",
       "        vertical-align: middle;\n",
       "    }\n",
       "\n",
       "    .dataframe tbody tr th {\n",
       "        vertical-align: top;\n",
       "    }\n",
       "\n",
       "    .dataframe thead th {\n",
       "        text-align: right;\n",
       "    }\n",
       "</style>\n",
       "<table border=\"1\" class=\"dataframe\">\n",
       "  <thead>\n",
       "    <tr style=\"text-align: right;\">\n",
       "      <th></th>\n",
       "      <th>Unnamed: 0</th>\n",
       "      <th>Product_Review</th>\n",
       "      <th>Ratings</th>\n",
       "    </tr>\n",
       "  </thead>\n",
       "  <tbody>\n",
       "    <tr>\n",
       "      <th>22009</th>\n",
       "      <td>22009</td>\n",
       "      <td>Still the best in 2020 at this price range. So...</td>\n",
       "      <td>5.0</td>\n",
       "    </tr>\n",
       "    <tr>\n",
       "      <th>15203</th>\n",
       "      <td>15203</td>\n",
       "      <td>4 GB ram is not enough to do all task smoothly...</td>\n",
       "      <td>4.0</td>\n",
       "    </tr>\n",
       "    <tr>\n",
       "      <th>18942</th>\n",
       "      <td>18942</td>\n",
       "      <td>Amazing laptop.. I ordered this laptop on its ...</td>\n",
       "      <td>5.0</td>\n",
       "    </tr>\n",
       "    <tr>\n",
       "      <th>7795</th>\n",
       "      <td>7795</td>\n",
       "      <td>Bads :1. Bass not at all there.2. Cushions too...</td>\n",
       "      <td>3.0</td>\n",
       "    </tr>\n",
       "    <tr>\n",
       "      <th>18982</th>\n",
       "      <td>18982</td>\n",
       "      <td>Amazing laptop.. I ordered this laptop on its ...</td>\n",
       "      <td>5.0</td>\n",
       "    </tr>\n",
       "  </tbody>\n",
       "</table>\n",
       "</div>"
      ],
      "text/plain": [
       "       Unnamed: 0                                     Product_Review  Ratings\n",
       "22009       22009  Still the best in 2020 at this price range. So...      5.0\n",
       "15203       15203  4 GB ram is not enough to do all task smoothly...      4.0\n",
       "18942       18942  Amazing laptop.. I ordered this laptop on its ...      5.0\n",
       "7795         7795  Bads :1. Bass not at all there.2. Cushions too...      3.0\n",
       "18982       18982  Amazing laptop.. I ordered this laptop on its ...      5.0"
      ]
     },
     "execution_count": 5,
     "metadata": {},
     "output_type": "execute_result"
    }
   ],
   "source": [
    "rating.sample(5)"
   ]
  },
  {
   "cell_type": "code",
   "execution_count": 6,
   "id": "92fa510c",
   "metadata": {},
   "outputs": [
    {
     "data": {
      "text/plain": [
       "Unnamed: 0          int64\n",
       "Product_Review     object\n",
       "Ratings           float64\n",
       "dtype: object"
      ]
     },
     "execution_count": 6,
     "metadata": {},
     "output_type": "execute_result"
    }
   ],
   "source": [
    "rating.dtypes"
   ]
  },
  {
   "cell_type": "code",
   "execution_count": 7,
   "id": "84fab17c",
   "metadata": {},
   "outputs": [
    {
     "data": {
      "text/plain": [
       "(50000, 3)"
      ]
     },
     "execution_count": 7,
     "metadata": {},
     "output_type": "execute_result"
    }
   ],
   "source": [
    "rating.shape"
   ]
  },
  {
   "cell_type": "code",
   "execution_count": 8,
   "id": "fdfaee81",
   "metadata": {},
   "outputs": [
    {
     "data": {
      "text/plain": [
       "Index(['Unnamed: 0', 'Product_Review', 'Ratings'], dtype='object')"
      ]
     },
     "execution_count": 8,
     "metadata": {},
     "output_type": "execute_result"
    }
   ],
   "source": [
    "rating.columns"
   ]
  },
  {
   "cell_type": "code",
   "execution_count": 9,
   "id": "2700a359",
   "metadata": {},
   "outputs": [
    {
     "name": "stdout",
     "output_type": "stream",
     "text": [
      "<class 'pandas.core.frame.DataFrame'>\n",
      "RangeIndex: 50000 entries, 0 to 49999\n",
      "Data columns (total 3 columns):\n",
      " #   Column          Non-Null Count  Dtype  \n",
      "---  ------          --------------  -----  \n",
      " 0   Unnamed: 0      50000 non-null  int64  \n",
      " 1   Product_Review  49920 non-null  object \n",
      " 2   Ratings         50000 non-null  float64\n",
      "dtypes: float64(1), int64(1), object(1)\n",
      "memory usage: 1.1+ MB\n"
     ]
    }
   ],
   "source": [
    "rating.info()"
   ]
  },
  {
   "cell_type": "code",
   "execution_count": 10,
   "id": "2b2d3fc3",
   "metadata": {},
   "outputs": [
    {
     "data": {
      "text/html": [
       "<div>\n",
       "<style scoped>\n",
       "    .dataframe tbody tr th:only-of-type {\n",
       "        vertical-align: middle;\n",
       "    }\n",
       "\n",
       "    .dataframe tbody tr th {\n",
       "        vertical-align: top;\n",
       "    }\n",
       "\n",
       "    .dataframe thead th {\n",
       "        text-align: right;\n",
       "    }\n",
       "</style>\n",
       "<table border=\"1\" class=\"dataframe\">\n",
       "  <thead>\n",
       "    <tr style=\"text-align: right;\">\n",
       "      <th></th>\n",
       "      <th>Unnamed: 0</th>\n",
       "      <th>Ratings</th>\n",
       "    </tr>\n",
       "  </thead>\n",
       "  <tbody>\n",
       "    <tr>\n",
       "      <th>count</th>\n",
       "      <td>50000.000000</td>\n",
       "      <td>50000.000000</td>\n",
       "    </tr>\n",
       "    <tr>\n",
       "      <th>mean</th>\n",
       "      <td>24999.500000</td>\n",
       "      <td>3.655560</td>\n",
       "    </tr>\n",
       "    <tr>\n",
       "      <th>std</th>\n",
       "      <td>14433.901067</td>\n",
       "      <td>1.625107</td>\n",
       "    </tr>\n",
       "    <tr>\n",
       "      <th>min</th>\n",
       "      <td>0.000000</td>\n",
       "      <td>1.000000</td>\n",
       "    </tr>\n",
       "    <tr>\n",
       "      <th>25%</th>\n",
       "      <td>12499.750000</td>\n",
       "      <td>2.000000</td>\n",
       "    </tr>\n",
       "    <tr>\n",
       "      <th>50%</th>\n",
       "      <td>24999.500000</td>\n",
       "      <td>4.000000</td>\n",
       "    </tr>\n",
       "    <tr>\n",
       "      <th>75%</th>\n",
       "      <td>37499.250000</td>\n",
       "      <td>5.000000</td>\n",
       "    </tr>\n",
       "    <tr>\n",
       "      <th>max</th>\n",
       "      <td>49999.000000</td>\n",
       "      <td>5.000000</td>\n",
       "    </tr>\n",
       "  </tbody>\n",
       "</table>\n",
       "</div>"
      ],
      "text/plain": [
       "         Unnamed: 0       Ratings\n",
       "count  50000.000000  50000.000000\n",
       "mean   24999.500000      3.655560\n",
       "std    14433.901067      1.625107\n",
       "min        0.000000      1.000000\n",
       "25%    12499.750000      2.000000\n",
       "50%    24999.500000      4.000000\n",
       "75%    37499.250000      5.000000\n",
       "max    49999.000000      5.000000"
      ]
     },
     "execution_count": 10,
     "metadata": {},
     "output_type": "execute_result"
    }
   ],
   "source": [
    "rating.describe()"
   ]
  },
  {
   "cell_type": "code",
   "execution_count": 11,
   "id": "a28dcdbb",
   "metadata": {},
   "outputs": [],
   "source": [
    "rating=pd.DataFrame(data=rating)"
   ]
  },
  {
   "cell_type": "code",
   "execution_count": 12,
   "id": "190cf38c",
   "metadata": {},
   "outputs": [
    {
     "data": {
      "text/html": [
       "<div>\n",
       "<style scoped>\n",
       "    .dataframe tbody tr th:only-of-type {\n",
       "        vertical-align: middle;\n",
       "    }\n",
       "\n",
       "    .dataframe tbody tr th {\n",
       "        vertical-align: top;\n",
       "    }\n",
       "\n",
       "    .dataframe thead th {\n",
       "        text-align: right;\n",
       "    }\n",
       "</style>\n",
       "<table border=\"1\" class=\"dataframe\">\n",
       "  <thead>\n",
       "    <tr style=\"text-align: right;\">\n",
       "      <th></th>\n",
       "      <th>Unnamed: 0</th>\n",
       "      <th>Product_Review</th>\n",
       "      <th>Ratings</th>\n",
       "    </tr>\n",
       "  </thead>\n",
       "  <tbody>\n",
       "    <tr>\n",
       "      <th>0</th>\n",
       "      <td>0</td>\n",
       "      <td>It has great sound quality and bass but after ...</td>\n",
       "      <td>1.0</td>\n",
       "    </tr>\n",
       "    <tr>\n",
       "      <th>1</th>\n",
       "      <td>1</td>\n",
       "      <td>[BIG UPDATE]IT BROKE ALONG THE RIGHT HINGE, I ...</td>\n",
       "      <td>2.0</td>\n",
       "    </tr>\n",
       "    <tr>\n",
       "      <th>2</th>\n",
       "      <td>2</td>\n",
       "      <td>This is a premium quality product from boAt-Li...</td>\n",
       "      <td>5.0</td>\n",
       "    </tr>\n",
       "    <tr>\n",
       "      <th>3</th>\n",
       "      <td>3</td>\n",
       "      <td>The boAt Rockerz line is boAt's super cheap li...</td>\n",
       "      <td>1.0</td>\n",
       "    </tr>\n",
       "    <tr>\n",
       "      <th>4</th>\n",
       "      <td>4</td>\n",
       "      <td>These are super comfortable and premium lookin...</td>\n",
       "      <td>5.0</td>\n",
       "    </tr>\n",
       "    <tr>\n",
       "      <th>...</th>\n",
       "      <td>...</td>\n",
       "      <td>...</td>\n",
       "      <td>...</td>\n",
       "    </tr>\n",
       "    <tr>\n",
       "      <th>49995</th>\n",
       "      <td>49995</td>\n",
       "      <td>Honest rating for this product is 5/5 . Just f...</td>\n",
       "      <td>4.0</td>\n",
       "    </tr>\n",
       "    <tr>\n",
       "      <th>49996</th>\n",
       "      <td>49996</td>\n",
       "      <td>I have bought 3 of these little guys, for my s...</td>\n",
       "      <td>5.0</td>\n",
       "    </tr>\n",
       "    <tr>\n",
       "      <th>49997</th>\n",
       "      <td>49997</td>\n",
       "      <td>Its a great product. Works really fine. It wil...</td>\n",
       "      <td>4.0</td>\n",
       "    </tr>\n",
       "    <tr>\n",
       "      <th>49998</th>\n",
       "      <td>49998</td>\n",
       "      <td>Service is very good , I would say to keep up ...</td>\n",
       "      <td>5.0</td>\n",
       "    </tr>\n",
       "    <tr>\n",
       "      <th>49999</th>\n",
       "      <td>49999</td>\n",
       "      <td>Just buy it if u need bigger coverage buy a re...</td>\n",
       "      <td>5.0</td>\n",
       "    </tr>\n",
       "  </tbody>\n",
       "</table>\n",
       "<p>50000 rows × 3 columns</p>\n",
       "</div>"
      ],
      "text/plain": [
       "       Unnamed: 0                                     Product_Review  Ratings\n",
       "0               0  It has great sound quality and bass but after ...      1.0\n",
       "1               1  [BIG UPDATE]IT BROKE ALONG THE RIGHT HINGE, I ...      2.0\n",
       "2               2  This is a premium quality product from boAt-Li...      5.0\n",
       "3               3  The boAt Rockerz line is boAt's super cheap li...      1.0\n",
       "4               4  These are super comfortable and premium lookin...      5.0\n",
       "...           ...                                                ...      ...\n",
       "49995       49995  Honest rating for this product is 5/5 . Just f...      4.0\n",
       "49996       49996  I have bought 3 of these little guys, for my s...      5.0\n",
       "49997       49997  Its a great product. Works really fine. It wil...      4.0\n",
       "49998       49998  Service is very good , I would say to keep up ...      5.0\n",
       "49999       49999  Just buy it if u need bigger coverage buy a re...      5.0\n",
       "\n",
       "[50000 rows x 3 columns]"
      ]
     },
     "execution_count": 12,
     "metadata": {},
     "output_type": "execute_result"
    }
   ],
   "source": [
    "rating"
   ]
  },
  {
   "cell_type": "code",
   "execution_count": 13,
   "id": "0d00793d",
   "metadata": {},
   "outputs": [
    {
     "data": {
      "text/html": [
       "<div>\n",
       "<style scoped>\n",
       "    .dataframe tbody tr th:only-of-type {\n",
       "        vertical-align: middle;\n",
       "    }\n",
       "\n",
       "    .dataframe tbody tr th {\n",
       "        vertical-align: top;\n",
       "    }\n",
       "\n",
       "    .dataframe thead th {\n",
       "        text-align: right;\n",
       "    }\n",
       "</style>\n",
       "<table border=\"1\" class=\"dataframe\">\n",
       "  <thead>\n",
       "    <tr style=\"text-align: right;\">\n",
       "      <th></th>\n",
       "      <th>Unnamed: 0</th>\n",
       "      <th>Product_Review</th>\n",
       "      <th>Ratings</th>\n",
       "    </tr>\n",
       "  </thead>\n",
       "  <tbody>\n",
       "    <tr>\n",
       "      <th>0</th>\n",
       "      <td>False</td>\n",
       "      <td>False</td>\n",
       "      <td>False</td>\n",
       "    </tr>\n",
       "    <tr>\n",
       "      <th>1</th>\n",
       "      <td>False</td>\n",
       "      <td>False</td>\n",
       "      <td>False</td>\n",
       "    </tr>\n",
       "    <tr>\n",
       "      <th>2</th>\n",
       "      <td>False</td>\n",
       "      <td>False</td>\n",
       "      <td>False</td>\n",
       "    </tr>\n",
       "    <tr>\n",
       "      <th>3</th>\n",
       "      <td>False</td>\n",
       "      <td>False</td>\n",
       "      <td>False</td>\n",
       "    </tr>\n",
       "    <tr>\n",
       "      <th>4</th>\n",
       "      <td>False</td>\n",
       "      <td>False</td>\n",
       "      <td>False</td>\n",
       "    </tr>\n",
       "    <tr>\n",
       "      <th>...</th>\n",
       "      <td>...</td>\n",
       "      <td>...</td>\n",
       "      <td>...</td>\n",
       "    </tr>\n",
       "    <tr>\n",
       "      <th>49995</th>\n",
       "      <td>False</td>\n",
       "      <td>False</td>\n",
       "      <td>False</td>\n",
       "    </tr>\n",
       "    <tr>\n",
       "      <th>49996</th>\n",
       "      <td>False</td>\n",
       "      <td>False</td>\n",
       "      <td>False</td>\n",
       "    </tr>\n",
       "    <tr>\n",
       "      <th>49997</th>\n",
       "      <td>False</td>\n",
       "      <td>False</td>\n",
       "      <td>False</td>\n",
       "    </tr>\n",
       "    <tr>\n",
       "      <th>49998</th>\n",
       "      <td>False</td>\n",
       "      <td>False</td>\n",
       "      <td>False</td>\n",
       "    </tr>\n",
       "    <tr>\n",
       "      <th>49999</th>\n",
       "      <td>False</td>\n",
       "      <td>False</td>\n",
       "      <td>False</td>\n",
       "    </tr>\n",
       "  </tbody>\n",
       "</table>\n",
       "<p>50000 rows × 3 columns</p>\n",
       "</div>"
      ],
      "text/plain": [
       "       Unnamed: 0  Product_Review  Ratings\n",
       "0           False           False    False\n",
       "1           False           False    False\n",
       "2           False           False    False\n",
       "3           False           False    False\n",
       "4           False           False    False\n",
       "...           ...             ...      ...\n",
       "49995       False           False    False\n",
       "49996       False           False    False\n",
       "49997       False           False    False\n",
       "49998       False           False    False\n",
       "49999       False           False    False\n",
       "\n",
       "[50000 rows x 3 columns]"
      ]
     },
     "execution_count": 13,
     "metadata": {},
     "output_type": "execute_result"
    }
   ],
   "source": [
    "rating.isnull()"
   ]
  },
  {
   "cell_type": "code",
   "execution_count": 14,
   "id": "70e1b5dd",
   "metadata": {},
   "outputs": [
    {
     "data": {
      "text/plain": [
       "Unnamed: 0         0\n",
       "Product_Review    80\n",
       "Ratings            0\n",
       "dtype: int64"
      ]
     },
     "execution_count": 14,
     "metadata": {},
     "output_type": "execute_result"
    }
   ],
   "source": [
    "rating.isnull().sum()"
   ]
  },
  {
   "cell_type": "code",
   "execution_count": 15,
   "id": "11656a7f",
   "metadata": {},
   "outputs": [],
   "source": [
    "rating.drop('Unnamed: 0',axis=1,inplace=True)"
   ]
  },
  {
   "cell_type": "code",
   "execution_count": 16,
   "id": "da5b04dc",
   "metadata": {},
   "outputs": [
    {
     "name": "stdout",
     "output_type": "stream",
     "text": [
      "<class 'pandas.core.frame.DataFrame'>\n",
      "RangeIndex: 50000 entries, 0 to 49999\n",
      "Data columns (total 2 columns):\n",
      " #   Column          Non-Null Count  Dtype  \n",
      "---  ------          --------------  -----  \n",
      " 0   Product_Review  49920 non-null  object \n",
      " 1   Ratings         50000 non-null  float64\n",
      "dtypes: float64(1), object(1)\n",
      "memory usage: 781.4+ KB\n"
     ]
    }
   ],
   "source": [
    "rating.info()"
   ]
  },
  {
   "cell_type": "code",
   "execution_count": 17,
   "id": "ff35454d",
   "metadata": {},
   "outputs": [
    {
     "data": {
      "image/png": "[encoded data removed]",
      "text/plain": [
       "<Figure size 720x504 with 2 Axes>"
      ]
     },
     "metadata": {
      "needs_background": "light"
     },
     "output_type": "display_data"
    },
    {
     "data": {
      "text/plain": [
       "Product_Review    80\n",
       "Ratings            0\n",
       "dtype: int64"
      ]
     },
     "execution_count": 17,
     "metadata": {},
     "output_type": "execute_result"
    }
   ],
   "source": [
    "plt.figure(figsize=(10,7))\n",
    "sns.heatmap(rating.isnull(),cmap=\"cool_r\")\n",
    "plt.show()\n",
    "rating.isnull().sum()"
   ]
  },
  {
   "cell_type": "code",
   "execution_count": 18,
   "id": "19331d0f",
   "metadata": {},
   "outputs": [],
   "source": [
    "rating['Product_Review'].fillna('Review Not Available',inplace=True)"
   ]
  },
  {
   "cell_type": "code",
   "execution_count": 19,
   "id": "e67f6436",
   "metadata": {},
   "outputs": [
    {
     "data": {
      "text/plain": [
       "False"
      ]
     },
     "execution_count": 19,
     "metadata": {},
     "output_type": "execute_result"
    }
   ],
   "source": [
    "rating.isnull().sum().any()"
   ]
  },
  {
   "cell_type": "code",
   "execution_count": 20,
   "id": "d0cae08d",
   "metadata": {},
   "outputs": [
    {
     "data": {
      "image/png": "[encoded data removed]",
      "text/plain": [
       "<Figure size 2160x720 with 1 Axes>"
      ]
     },
     "metadata": {
      "needs_background": "light"
     },
     "output_type": "display_data"
    }
   ],
   "source": [
    "plt.figure(figsize=(30,10))\n",
    "sns.countplot(rating['Ratings'])\n",
    "plt.show()"
   ]
  },
  {
   "cell_type": "code",
   "execution_count": 21,
   "id": "74922806",
   "metadata": {},
   "outputs": [
    {
     "data": {
      "image/png": "[encoded data removed]",
      "text/plain": [
       "<Figure size 1080x504 with 2 Axes>"
      ]
     },
     "metadata": {
      "needs_background": "light"
     },
     "output_type": "display_data"
    },
    {
     "name": "stdout",
     "output_type": "stream",
     "text": [
      "Value Counts of Rating:\n"
     ]
    },
    {
     "data": {
      "text/plain": [
       "5.0    24506\n",
       "1.0    11232\n",
       "4.0     8406\n",
       "3.0     3680\n",
       "2.0     2176\n",
       "Name: Ratings, dtype: int64"
      ]
     },
     "execution_count": 21,
     "metadata": {},
     "output_type": "execute_result"
    }
   ],
   "source": [
    "plt.rcParams[\"figure.autolayout\"] = True\n",
    "sns.set_palette('Set2_r')\n",
    "f,ax=plt.subplots(1,2,figsize=(15,7))\n",
    "rating['Ratings'].value_counts().plot.pie(autopct='%2.1f%%',\n",
    "                                textprops ={'fontsize':16 ,'fontweight' :'bold'}, ax=ax[0],shadow=True)\n",
    "ax[0].set_title('Ratings Pie Chart', fontsize=20,fontweight ='bold')\n",
    "ax[0].set_ylabel('')\n",
    "sns.countplot('Ratings',data=rating,ax=ax[1])\n",
    "ax[1].set_title('Ratings Distribution',fontsize=18,fontweight ='bold')\n",
    "ax[1].set_xlabel(\"Ratings\",fontsize=18,fontweight ='bold')\n",
    "ax[1].set_ylabel(\"No. of Review\",fontsize=18,fontweight ='bold')\n",
    "plt.xticks(fontsize=18,fontweight ='bold')\n",
    "plt.tight_layout()\n",
    "plt.show()\n",
    "print('Value Counts of Rating:')\n",
    "rating['Ratings'].value_counts()"
   ]
  },
  {
   "cell_type": "code",
   "execution_count": 22,
   "id": "850fb895",
   "metadata": {},
   "outputs": [
    {
     "name": "stdout",
     "output_type": "stream",
     "text": [
      "Average rating given by users is 3.65556\n"
     ]
    }
   ],
   "source": [
    "print(\"Average rating given by users is \" + str(rating['Ratings'].mean()))"
   ]
  },
  {
   "cell_type": "code",
   "execution_count": 23,
   "id": "b7e4f00c",
   "metadata": {},
   "outputs": [],
   "source": [
    "import re \n",
    "import string\n",
    "import nltk\n",
    "from nltk.corpus import stopwords\n",
    "from nltk.tokenize import word_tokenize\n",
    "from nltk.stem import SnowballStemmer, WordNetLemmatizer\n",
    "from sklearn.feature_extraction.text import CountVectorizer, TfidfVectorizer\n",
    "from wordcloud import WordCloud"
   ]
  },
  {
   "cell_type": "code",
   "execution_count": 24,
   "id": "412e5729",
   "metadata": {},
   "outputs": [],
   "source": [
    "def clean_text(rating, rating_column_name):\n",
    "    \n",
    "    rating[rating_column_name] = rating[rating_column_name].str.lower()\n",
    "    rating[rating_column_name] = rating[rating_column_name].str.replace(r'^.+@[^\\.].*\\.[a-z]{2,}$','emailaddress')\n",
    "    rating[rating_column_name] = rating[rating_column_name].str.replace(r'^http\\://[a-zA-Z0-9\\-\\.]+\\.[a-zA-Z]{2,3}(/\\S*)?$','webaddress')\n",
    "    rating[rating_column_name] = rating[rating_column_name].str.replace(r'£|\\$', 'dollars')\n",
    "    rating[rating_column_name] = rating[rating_column_name].str.replace(r'^\\(?[\\d]{3}\\)?[\\s-]?[\\d]{3}[\\s-]?[\\d]{4}$','phonenumber')\n",
    "    rating[rating_column_name] = rating[rating_column_name].str.replace(r'\\d+(\\.\\d+)?', 'numbr')\n",
    "    rating[rating_column_name] = rating[rating_column_name].str.replace(r'[^\\w\\d\\s]', ' ')\n",
    "    rating[rating_column_name] = rating[rating_column_name].str.replace(r'\\s+', ' ')\n",
    "    rating[rating_column_name] = rating[rating_column_name].str.replace(r'^\\s+|\\s+?$', '')\n",
    "    stop_words = set(stopwords.words('english') + ['u', 'ü', 'â', 'ur', '4', '2', 'im', 'dont', 'doin', 'ure'])\n",
    "    rating[rating_column_name] = rating[rating_column_name].apply(lambda x: ' '.join(term for term in x.split() if term not in stop_words))\n"
   ]
  },
  {
   "cell_type": "code",
   "execution_count": 25,
   "id": "98aa70a9",
   "metadata": {},
   "outputs": [
    {
     "data": {
      "text/plain": [
       "49997    great product works really fine usually numbr ...\n",
       "49998    service good would say keep good work goin fli...\n",
       "49999    buy need bigger coverage buy repeater router c...\n",
       "Name: Product_Review, dtype: object"
      ]
     },
     "execution_count": 25,
     "metadata": {},
     "output_type": "execute_result"
    }
   ],
   "source": [
    "clean_text(rating, 'Product_Review')\n",
    "rating['Product_Review'].tail(3)"
   ]
  },
  {
   "cell_type": "code",
   "execution_count": 26,
   "id": "ab8dd8e8",
   "metadata": {},
   "outputs": [
    {
     "data": {
      "text/html": [
       "<div>\n",
       "<style scoped>\n",
       "    .dataframe tbody tr th:only-of-type {\n",
       "        vertical-align: middle;\n",
       "    }\n",
       "\n",
       "    .dataframe tbody tr th {\n",
       "        vertical-align: top;\n",
       "    }\n",
       "\n",
       "    .dataframe thead th {\n",
       "        text-align: right;\n",
       "    }\n",
       "</style>\n",
       "<table border=\"1\" class=\"dataframe\">\n",
       "  <thead>\n",
       "    <tr style=\"text-align: right;\">\n",
       "      <th></th>\n",
       "      <th>Product_Review</th>\n",
       "      <th>Ratings</th>\n",
       "    </tr>\n",
       "  </thead>\n",
       "  <tbody>\n",
       "    <tr>\n",
       "      <th>0</th>\n",
       "      <td>[great, sound, quality, bass, numbr, months, u...</td>\n",
       "      <td>1.0</td>\n",
       "    </tr>\n",
       "    <tr>\n",
       "      <th>1</th>\n",
       "      <td>[big, update, broke, along, right, hinge, wear...</td>\n",
       "      <td>2.0</td>\n",
       "    </tr>\n",
       "    <tr>\n",
       "      <th>2</th>\n",
       "      <td>[premium, quality, product, boat, lifestyle, p...</td>\n",
       "      <td>5.0</td>\n",
       "    </tr>\n",
       "    <tr>\n",
       "      <th>3</th>\n",
       "      <td>[boat, rockerz, line, boat, super, cheap, line...</td>\n",
       "      <td>1.0</td>\n",
       "    </tr>\n",
       "    <tr>\n",
       "      <th>4</th>\n",
       "      <td>[super, comfortable, premium, looking, headpho...</td>\n",
       "      <td>5.0</td>\n",
       "    </tr>\n",
       "  </tbody>\n",
       "</table>\n",
       "</div>"
      ],
      "text/plain": [
       "                                      Product_Review  Ratings\n",
       "0  [great, sound, quality, bass, numbr, months, u...      1.0\n",
       "1  [big, update, broke, along, right, hinge, wear...      2.0\n",
       "2  [premium, quality, product, boat, lifestyle, p...      5.0\n",
       "3  [boat, rockerz, line, boat, super, cheap, line...      1.0\n",
       "4  [super, comfortable, premium, looking, headpho...      5.0"
      ]
     },
     "execution_count": 26,
     "metadata": {},
     "output_type": "execute_result"
    }
   ],
   "source": [
    "from nltk.tokenize import RegexpTokenizer\n",
    "tokenizer=RegexpTokenizer(r'\\w+')\n",
    "rating['Product_Review'] = rating['Product_Review'].apply(lambda x: tokenizer.tokenize(x.lower()))\n",
    "rating.head()"
   ]
  },
  {
   "cell_type": "code",
   "execution_count": 28,
   "id": "417b851e",
   "metadata": {},
   "outputs": [],
   "source": [
    "stemmer = SnowballStemmer(\"english\")\n",
    "import gensim\n",
    "def lemmatize_stemming(text):\n",
    "    return stemmer.stem(WordNetLemmatizer().lemmatize(text,pos='v'))\n",
    "\n",
    "\n",
    "def preprocess(text):\n",
    "    result=[]\n",
    "    for token in text:\n",
    "        if len(token)>=3:\n",
    "            result.append(lemmatize_stemming(token))\n",
    "            \n",
    "    return result"
   ]
  },
  {
   "cell_type": "code",
   "execution_count": 29,
   "id": "0f685afe",
   "metadata": {},
   "outputs": [
    {
     "name": "stdout",
     "output_type": "stream",
     "text": [
      "50000\n"
     ]
    },
    {
     "data": {
      "text/plain": [
       "[['great',\n",
       "  'sound',\n",
       "  'qualiti',\n",
       "  'bass',\n",
       "  'numbr',\n",
       "  'month',\n",
       "  'use',\n",
       "  'get',\n",
       "  'break',\n",
       "  'without',\n",
       "  'fall',\n",
       "  'jerk',\n",
       "  'wear',\n",
       "  'normal',\n",
       "  'get',\n",
       "  'break',\n",
       "  'one',\n",
       "  'side',\n",
       "  'call',\n",
       "  'costum',\n",
       "  'care',\n",
       "  'servic',\n",
       "  'repli',\n",
       "  'come',\n",
       "  'also',\n",
       "  'file',\n",
       "  'complaint',\n",
       "  'boat',\n",
       "  'offici',\n",
       "  'websit',\n",
       "  'warranti',\n",
       "  'claim',\n",
       "  'respond',\n",
       "  'come',\n",
       "  'servic',\n",
       "  'center',\n",
       "  'approach',\n",
       "  'claim',\n",
       "  'numbr',\n",
       "  'wast'],\n",
       " ['big',\n",
       "  'updat',\n",
       "  'break',\n",
       "  'along',\n",
       "  'right',\n",
       "  'hing',\n",
       "  'wear',\n",
       "  'normal',\n",
       "  'split',\n",
       "  'open',\n",
       "  'one',\n",
       "  'side',\n",
       "  'extend',\n",
       "  'weak',\n",
       "  'pic',\n",
       "  'inscud',\n",
       "  'boat',\n",
       "  'numbr',\n",
       "  'break',\n",
       "  'centr',\n",
       "  'need',\n",
       "  'concentr',\n",
       "  'less',\n",
       "  'celebr',\n",
       "  'endors',\n",
       "  'use',\n",
       "  'profit',\n",
       "  'materi',\n",
       "  'qualiti',\n",
       "  'control',\n",
       "  'still',\n",
       "  'work',\n",
       "  'tap',\n",
       "  'metal',\n",
       "  'sheet',\n",
       "  'still',\n",
       "  'give',\n",
       "  'numbr',\n",
       "  'star',\n",
       "  'sound',\n",
       "  'origin',\n",
       "  'review',\n",
       "  'own',\n",
       "  'boat',\n",
       "  'product',\n",
       "  'rockerz',\n",
       "  'numbr',\n",
       "  'earphon',\n",
       "  'best',\n",
       "  'experi',\n",
       "  'product',\n",
       "  'review',\n",
       "  'numbr',\n",
       "  'day',\n",
       "  'use',\n",
       "  'updatepric',\n",
       "  'pay',\n",
       "  'numbrpro',\n",
       "  'numbr',\n",
       "  'packag',\n",
       "  'good',\n",
       "  'first',\n",
       "  'timenumbr',\n",
       "  'build',\n",
       "  'finish',\n",
       "  'par',\n",
       "  'headphon',\n",
       "  'cost',\n",
       "  'numbr',\n",
       "  'time',\n",
       "  'much',\n",
       "  'numbr',\n",
       "  'rang',\n",
       "  'next',\n",
       "  'level',\n",
       "  'experi',\n",
       "  'loss',\n",
       "  'connect',\n",
       "  'entir',\n",
       "  'hous',\n",
       "  'phone',\n",
       "  'keep',\n",
       "  'one',\n",
       "  'posit',\n",
       "  'numbr',\n",
       "  'boat',\n",
       "  'headphon',\n",
       "  'alway',\n",
       "  'super',\n",
       "  'uncomfort',\n",
       "  'time',\n",
       "  'actual',\n",
       "  'think',\n",
       "  'numbr',\n",
       "  'cup',\n",
       "  'big',\n",
       "  'soft',\n",
       "  'enough',\n",
       "  'fit',\n",
       "  'ear',\n",
       "  'insid',\n",
       "  'ear',\n",
       "  'numbr',\n",
       "  'base',\n",
       "  'amaz',\n",
       "  'let',\n",
       "  'say',\n",
       "  'averag',\n",
       "  'sound',\n",
       "  'like',\n",
       "  'numbr',\n",
       "  'improv',\n",
       "  'rockerz',\n",
       "  'numbr',\n",
       "  'go',\n",
       "  'organ',\n",
       "  'approach',\n",
       "  'sound',\n",
       "  'high',\n",
       "  'low',\n",
       "  'numbr',\n",
       "  'batteri',\n",
       "  'life',\n",
       "  'advertisednumbr',\n",
       "  'liter',\n",
       "  'find',\n",
       "  'better',\n",
       "  'pair',\n",
       "  'headphon',\n",
       "  'less',\n",
       "  'numbrk',\n",
       "  'sure',\n",
       "  'consnumbr',\n",
       "  'sure',\n",
       "  'actual',\n",
       "  'look',\n",
       "  'order',\n",
       "  'cos',\n",
       "  'imag',\n",
       "  'product',\n",
       "  'keep',\n",
       "  'chang',\n",
       "  'flat',\n",
       "  'cup',\n",
       "  'doughnut',\n",
       "  'type',\n",
       "  'cup',\n",
       "  'numbr',\n",
       "  'loud',\n",
       "  'want',\n",
       "  'benumbr',\n",
       "  'includ',\n",
       "  'aux',\n",
       "  'cabl',\n",
       "  'crazi',\n",
       "  'ship',\n",
       "  'model',\n",
       "  'numbr',\n",
       "  'get',\n",
       "  'warm',\n",
       "  'sweatnumbr',\n",
       "  'nois',\n",
       "  'cancel',\n",
       "  'mention',\n",
       "  'passiv',\n",
       "  'design',\n",
       "  'good'],\n",
       " ['premium',\n",
       "  'qualiti',\n",
       "  'product',\n",
       "  'boat',\n",
       "  'lifestyl',\n",
       "  'profession',\n",
       "  'grade',\n",
       "  'numbr',\n",
       "  'driver',\n",
       "  'truli',\n",
       "  'deliv',\n",
       "  'music',\n",
       "  'nirvana',\n",
       "  'profession',\n",
       "  'fine',\n",
       "  'finish',\n",
       "  'amaz',\n",
       "  'batteri',\n",
       "  'life',\n",
       "  'reduc',\n",
       "  'charg',\n",
       "  'time',\n",
       "  'make',\n",
       "  'marathon',\n",
       "  'runner',\n",
       "  'ear',\n",
       "  'cushion',\n",
       "  'provid',\n",
       "  'comfi',\n",
       "  'experi',\n",
       "  'sound',\n",
       "  'qualiti',\n",
       "  'fabul',\n",
       "  'give',\n",
       "  'pain',\n",
       "  'ear',\n",
       "  'also',\n",
       "  'easi',\n",
       "  'carri',\n",
       "  'around',\n",
       "  'fold',\n",
       "  'inward',\n",
       "  'also',\n",
       "  'fold',\n",
       "  'toward',\n",
       "  'side',\n",
       "  'make',\n",
       "  'extrem',\n",
       "  'easi',\n",
       "  'safe',\n",
       "  'keep',\n",
       "  'tabl',\n",
       "  'awesom',\n",
       "  'product']]"
      ]
     },
     "execution_count": 29,
     "metadata": {},
     "output_type": "execute_result"
    }
   ],
   "source": [
    "processed_review = []\n",
    "\n",
    "for doc in rating.Product_Review:\n",
    "    processed_review.append(preprocess(doc))\n",
    "    \n",
    "print(len(processed_review))\n",
    "processed_review[:3]"
   ]
  },
  {
   "cell_type": "code",
   "execution_count": 30,
   "id": "2a7d4a5b",
   "metadata": {},
   "outputs": [
    {
     "data": {
      "text/html": [
       "<div>\n",
       "<style scoped>\n",
       "    .dataframe tbody tr th:only-of-type {\n",
       "        vertical-align: middle;\n",
       "    }\n",
       "\n",
       "    .dataframe tbody tr th {\n",
       "        vertical-align: top;\n",
       "    }\n",
       "\n",
       "    .dataframe thead th {\n",
       "        text-align: right;\n",
       "    }\n",
       "</style>\n",
       "<table border=\"1\" class=\"dataframe\">\n",
       "  <thead>\n",
       "    <tr style=\"text-align: right;\">\n",
       "      <th></th>\n",
       "      <th>Product_Review</th>\n",
       "      <th>Ratings</th>\n",
       "      <th>clean_review</th>\n",
       "    </tr>\n",
       "  </thead>\n",
       "  <tbody>\n",
       "    <tr>\n",
       "      <th>0</th>\n",
       "      <td>[great, sound, quality, bass, numbr, months, u...</td>\n",
       "      <td>1.0</td>\n",
       "      <td>[great, sound, qualiti, bass, numbr, month, us...</td>\n",
       "    </tr>\n",
       "    <tr>\n",
       "      <th>1</th>\n",
       "      <td>[big, update, broke, along, right, hinge, wear...</td>\n",
       "      <td>2.0</td>\n",
       "      <td>[big, updat, break, along, right, hing, wear, ...</td>\n",
       "    </tr>\n",
       "    <tr>\n",
       "      <th>2</th>\n",
       "      <td>[premium, quality, product, boat, lifestyle, p...</td>\n",
       "      <td>5.0</td>\n",
       "      <td>[premium, qualiti, product, boat, lifestyl, pr...</td>\n",
       "    </tr>\n",
       "    <tr>\n",
       "      <th>3</th>\n",
       "      <td>[boat, rockerz, line, boat, super, cheap, line...</td>\n",
       "      <td>1.0</td>\n",
       "      <td>[boat, rockerz, line, boat, super, cheap, line...</td>\n",
       "    </tr>\n",
       "    <tr>\n",
       "      <th>4</th>\n",
       "      <td>[super, comfortable, premium, looking, headpho...</td>\n",
       "      <td>5.0</td>\n",
       "      <td>[super, comfort, premium, look, headphon, beau...</td>\n",
       "    </tr>\n",
       "  </tbody>\n",
       "</table>\n",
       "</div>"
      ],
      "text/plain": [
       "                                      Product_Review  Ratings  \\\n",
       "0  [great, sound, quality, bass, numbr, months, u...      1.0   \n",
       "1  [big, update, broke, along, right, hinge, wear...      2.0   \n",
       "2  [premium, quality, product, boat, lifestyle, p...      5.0   \n",
       "3  [boat, rockerz, line, boat, super, cheap, line...      1.0   \n",
       "4  [super, comfortable, premium, looking, headpho...      5.0   \n",
       "\n",
       "                                        clean_review  \n",
       "0  [great, sound, qualiti, bass, numbr, month, us...  \n",
       "1  [big, updat, break, along, right, hing, wear, ...  \n",
       "2  [premium, qualiti, product, boat, lifestyl, pr...  \n",
       "3  [boat, rockerz, line, boat, super, cheap, line...  \n",
       "4  [super, comfort, premium, look, headphon, beau...  "
      ]
     },
     "execution_count": 30,
     "metadata": {},
     "output_type": "execute_result"
    }
   ],
   "source": [
    "rating['clean_review']=processed_review  \n",
    "rating.head()"
   ]
  },
  {
   "cell_type": "code",
   "execution_count": 37,
   "id": "2faf9ae9",
   "metadata": {},
   "outputs": [
    {
     "data": {
      "text/html": [
       "<div>\n",
       "<style scoped>\n",
       "    .dataframe tbody tr th:only-of-type {\n",
       "        vertical-align: middle;\n",
       "    }\n",
       "\n",
       "    .dataframe tbody tr th {\n",
       "        vertical-align: top;\n",
       "    }\n",
       "\n",
       "    .dataframe thead th {\n",
       "        text-align: right;\n",
       "    }\n",
       "</style>\n",
       "<table border=\"1\" class=\"dataframe\">\n",
       "  <thead>\n",
       "    <tr style=\"text-align: right;\">\n",
       "      <th></th>\n",
       "      <th>Product_Review</th>\n",
       "      <th>Ratings</th>\n",
       "      <th>clean_review</th>\n",
       "    </tr>\n",
       "  </thead>\n",
       "  <tbody>\n",
       "    <tr>\n",
       "      <th>0</th>\n",
       "      <td>great sound qualiti bass numbr month use get b...</td>\n",
       "      <td>1.0</td>\n",
       "      <td>[great, sound, qualiti, bass, numbr, month, us...</td>\n",
       "    </tr>\n",
       "    <tr>\n",
       "      <th>1</th>\n",
       "      <td>big updat break along right hing wear normal s...</td>\n",
       "      <td>2.0</td>\n",
       "      <td>[big, updat, break, along, right, hing, wear, ...</td>\n",
       "    </tr>\n",
       "    <tr>\n",
       "      <th>2</th>\n",
       "      <td>premium qualiti product boat lifestyl professi...</td>\n",
       "      <td>5.0</td>\n",
       "      <td>[premium, qualiti, product, boat, lifestyl, pr...</td>\n",
       "    </tr>\n",
       "    <tr>\n",
       "      <th>3</th>\n",
       "      <td>boat rockerz line boat super cheap lineup budg...</td>\n",
       "      <td>1.0</td>\n",
       "      <td>[boat, rockerz, line, boat, super, cheap, line...</td>\n",
       "    </tr>\n",
       "    <tr>\n",
       "      <th>4</th>\n",
       "      <td>super comfort premium look headphon beauti des...</td>\n",
       "      <td>5.0</td>\n",
       "      <td>[super, comfort, premium, look, headphon, beau...</td>\n",
       "    </tr>\n",
       "  </tbody>\n",
       "</table>\n",
       "</div>"
      ],
      "text/plain": [
       "                                      Product_Review  Ratings  \\\n",
       "0  great sound qualiti bass numbr month use get b...      1.0   \n",
       "1  big updat break along right hing wear normal s...      2.0   \n",
       "2  premium qualiti product boat lifestyl professi...      5.0   \n",
       "3  boat rockerz line boat super cheap lineup budg...      1.0   \n",
       "4  super comfort premium look headphon beauti des...      5.0   \n",
       "\n",
       "                                        clean_review  \n",
       "0  [great, sound, qualiti, bass, numbr, month, us...  \n",
       "1  [big, updat, break, along, right, hing, wear, ...  \n",
       "2  [premium, qualiti, product, boat, lifestyl, pr...  \n",
       "3  [boat, rockerz, line, boat, super, cheap, line...  \n",
       "4  [super, comfort, premium, look, headphon, beau...  "
      ]
     },
     "execution_count": 37,
     "metadata": {},
     "output_type": "execute_result"
    }
   ],
   "source": [
    "rating['Product_Review'] = rating['clean_review'].apply(lambda x:' '.join(y for y in x))\n",
    "rating.head()"
   ]
  },
  {
   "cell_type": "code",
   "execution_count": 42,
   "id": "7b48d01e",
   "metadata": {},
   "outputs": [],
   "source": [
    "tf = TfidfVectorizer()\n",
    "features = tf.fit_transform(rating['Product_Review'])\n",
    "X=features\n",
    "Y=rating[['Ratings']]"
   ]
  },
  {
   "cell_type": "code",
   "execution_count": 43,
   "id": "73b4dac3",
   "metadata": {},
   "outputs": [
    {
     "data": {
      "text/plain": [
       "(50000, 5828)"
      ]
     },
     "execution_count": 43,
     "metadata": {},
     "output_type": "execute_result"
    }
   ],
   "source": [
    "X.shape"
   ]
  },
  {
   "cell_type": "code",
   "execution_count": 44,
   "id": "acb50cef",
   "metadata": {},
   "outputs": [
    {
     "data": {
      "text/plain": [
       "(50000, 1)"
      ]
     },
     "execution_count": 44,
     "metadata": {},
     "output_type": "execute_result"
    }
   ],
   "source": [
    "Y.shape"
   ]
  },
  {
   "cell_type": "code",
   "execution_count": 45,
   "id": "7c974ba6",
   "metadata": {},
   "outputs": [],
   "source": [
    "from sklearn.linear_model import LogisticRegression\n",
    "from sklearn.naive_bayes import MultinomialNB\n",
    "from sklearn.tree import DecisionTreeClassifier\n",
    "from sklearn.neighbors import KNeighborsClassifier\n",
    "from sklearn.ensemble import RandomForestClassifier\n",
    "from sklearn.ensemble import AdaBoostClassifier\n",
    "from sklearn.ensemble import GradientBoostingClassifier\n",
    "from sklearn.model_selection import train_test_split,cross_val_score\n",
    "from sklearn.metrics import confusion_matrix,classification_report,accuracy_score"
   ]
  },
  {
   "cell_type": "code",
   "execution_count": 46,
   "id": "2a5aa521",
   "metadata": {},
   "outputs": [
    {
     "name": "stdout",
     "output_type": "stream",
     "text": [
      "Training feature matrix size: (35000, 5828)\n",
      "Training target vector size: (35000, 1)\n",
      "Test feature matrix size: (15000, 5828)\n",
      "Test target vector size: (15000, 1)\n"
     ]
    }
   ],
   "source": [
    "X_train, X_test, Y_train, Y_test = train_test_split(X, Y, random_state=67, test_size=.3)\n",
    "print('Training feature matrix size:',X_train.shape)\n",
    "print('Training target vector size:',Y_train.shape)\n",
    "print('Test feature matrix size:',X_test.shape)\n",
    "print('Test target vector size:',Y_test.shape)"
   ]
  },
  {
   "cell_type": "code",
   "execution_count": 47,
   "id": "8b2674f2",
   "metadata": {},
   "outputs": [
    {
     "name": "stdout",
     "output_type": "stream",
     "text": [
      "Best accuracy is 0.9071333333333333 on Random_state 71\n"
     ]
    }
   ],
   "source": [
    "from sklearn.linear_model import LogisticRegression\n",
    "from sklearn.metrics import accuracy_score, confusion_matrix,classification_report,f1_score\n",
    "maxAccu=0\n",
    "maxRS=0\n",
    "for i in range(50,100):\n",
    "    X_train,X_test,Y_train,Y_test = train_test_split(X,Y,test_size = 0.3, random_state=i)\n",
    "    log_reg=LogisticRegression()\n",
    "    log_reg.fit(X_train,Y_train)\n",
    "    y_pred=log_reg.predict(X_test)\n",
    "    acc=accuracy_score(Y_test,y_pred)\n",
    "    if acc>maxAccu:\n",
    "        maxAccu=acc\n",
    "        maxRS=i\n",
    "print('Best accuracy is', maxAccu ,'on Random_state', maxRS)"
   ]
  },
  {
   "cell_type": "code",
   "execution_count": 48,
   "id": "ca189119",
   "metadata": {},
   "outputs": [],
   "source": [
    "X_train, X_test, Y_train, Y_test = train_test_split(X, Y, random_state=71, test_size=.3)"
   ]
  },
  {
   "cell_type": "code",
   "execution_count": 49,
   "id": "b39120d7",
   "metadata": {},
   "outputs": [
    {
     "name": "stdout",
     "output_type": "stream",
     "text": [
      "\u001b[1mLogistics Regression Evaluation\u001b[0m\n",
      "\n",
      "\n",
      "\u001b[1mAccuracy Score of Logistics Regression :\u001b[0m 0.9071333333333333\n",
      "\n",
      "\n",
      "\u001b[1mConfusion matrix of Logistics Regression :\u001b[0m \n",
      " [[3330    7    3    9   29]\n",
      " [  35  573    0    2    7]\n",
      " [  42    0  820   13  232]\n",
      " [  36    3    5 1712  713]\n",
      " [ 121    5   16  115 7172]]\n",
      "\n",
      "\n",
      "\u001b[1mclassification Report of Logistics Regression\u001b[0m \n",
      "               precision    recall  f1-score   support\n",
      "\n",
      "         1.0       0.93      0.99      0.96      3378\n",
      "         2.0       0.97      0.93      0.95       617\n",
      "         3.0       0.97      0.74      0.84      1107\n",
      "         4.0       0.92      0.69      0.79      2469\n",
      "         5.0       0.88      0.97      0.92      7429\n",
      "\n",
      "    accuracy                           0.91     15000\n",
      "   macro avg       0.94      0.86      0.89     15000\n",
      "weighted avg       0.91      0.91      0.90     15000\n",
      "\n"
     ]
    }
   ],
   "source": [
    "X_train, X_test, Y_train, Y_test = train_test_split(X, Y, random_state=71, test_size=.3)\n",
    "log_reg=LogisticRegression()\n",
    "log_reg.fit(X_train,Y_train)\n",
    "y_pred=log_reg.predict(X_test)\n",
    "print('\\033[1m'+'Logistics Regression Evaluation'+'\\033[0m')\n",
    "print('\\n')\n",
    "print('\\033[1m'+'Accuracy Score of Logistics Regression :'+'\\033[0m', accuracy_score(Y_test, y_pred))\n",
    "print('\\n')\n",
    "print('\\033[1m'+'Confusion matrix of Logistics Regression :'+'\\033[0m \\n',confusion_matrix(Y_test, y_pred))\n",
    "print('\\n')\n",
    "print('\\033[1m'+'classification Report of Logistics Regression'+'\\033[0m \\n',classification_report(Y_test, y_pred))"
   ]
  },
  {
   "cell_type": "code",
   "execution_count": 50,
   "id": "ee0fb0eb",
   "metadata": {},
   "outputs": [
    {
     "name": "stdout",
     "output_type": "stream",
     "text": [
      "\u001b[1mCross Validation Score LogisticRegression() :\u001b[0m\n",
      "\n",
      "CVScore : [0.5435 0.5184 0.6062 0.6375 0.5917]\n",
      "Mean CV Score : 0.57946\n",
      "Std deviation : 0.04302309147423043\n"
     ]
    }
   ],
   "source": [
    "from sklearn.model_selection import cross_val_score\n",
    "CVscore = cross_val_score(log_reg, X, Y, cv =5)\n",
    "print('\\033[1m'+'Cross Validation Score', log_reg, ':'+'\\033[0m\\n')\n",
    "print(\"CVScore :\" ,CVscore)\n",
    "print(\"Mean CV Score :\",CVscore.mean())\n",
    "print(\"Std deviation :\",CVscore.std())"
   ]
  },
  {
   "cell_type": "code",
   "execution_count": 51,
   "id": "0d5e92bb",
   "metadata": {},
   "outputs": [
    {
     "name": "stdout",
     "output_type": "stream",
     "text": [
      "\u001b[1mDecision Tree Classifier Evaluation\u001b[0m\n",
      "\n",
      "\n",
      "\u001b[1mAccuracy Score of Decision Tree Classifier :\u001b[0m 0.8979333333333334\n",
      "\n",
      "\n",
      "\u001b[1mConfusion matrix of Decision Tree Classifier :\u001b[0m \n",
      " [[3338    7    3    9   21]\n",
      " [  35  573    0    2    7]\n",
      " [  39    1  826   37  204]\n",
      " [  35    8   26 1812  588]\n",
      " [ 123    6   97  283 6920]]\n",
      "\n",
      "\n",
      "\u001b[1mclassification Report of Decision Tree Classifier\u001b[0m \n",
      "               precision    recall  f1-score   support\n",
      "\n",
      "         1.0       0.94      0.99      0.96      3378\n",
      "         2.0       0.96      0.93      0.95       617\n",
      "         3.0       0.87      0.75      0.80      1107\n",
      "         4.0       0.85      0.73      0.79      2469\n",
      "         5.0       0.89      0.93      0.91      7429\n",
      "\n",
      "    accuracy                           0.90     15000\n",
      "   macro avg       0.90      0.87      0.88     15000\n",
      "weighted avg       0.90      0.90      0.90     15000\n",
      "\n"
     ]
    }
   ],
   "source": [
    "dtc=DecisionTreeClassifier()\n",
    "dtc.fit(X_train,Y_train)\n",
    "y_pred=dtc.predict(X_test)\n",
    "print('\\033[1m'+'Decision Tree Classifier Evaluation'+'\\033[0m')\n",
    "print('\\n')\n",
    "print('\\033[1m'+'Accuracy Score of Decision Tree Classifier :'+'\\033[0m', accuracy_score(Y_test, y_pred))\n",
    "print('\\n')\n",
    "print('\\033[1m'+'Confusion matrix of Decision Tree Classifier :'+'\\033[0m \\n',confusion_matrix(Y_test, y_pred))\n",
    "print('\\n')\n",
    "print('\\033[1m'+'classification Report of Decision Tree Classifier'+'\\033[0m \\n',classification_report(Y_test, y_pred))"
   ]
  },
  {
   "cell_type": "code",
   "execution_count": 52,
   "id": "c27b49c7",
   "metadata": {},
   "outputs": [
    {
     "name": "stdout",
     "output_type": "stream",
     "text": [
      "\u001b[1mCross Validation Score DecisionTreeClassifier() :\u001b[0m\n",
      "\n",
      "CVScore : [0.4427 0.4899 0.5864 0.5373 0.5875]\n",
      "Mean CV Score : 0.52876\n",
      "Std deviation : 0.05614643710868929\n"
     ]
    }
   ],
   "source": [
    "from sklearn.model_selection import cross_val_score\n",
    "CVscore = cross_val_score(dtc, X, Y, cv =5)\n",
    "print('\\033[1m'+'Cross Validation Score', dtc, ':'+'\\033[0m\\n')\n",
    "print(\"CVScore :\" ,CVscore)\n",
    "print(\"Mean CV Score :\",CVscore.mean())\n",
    "print(\"Std deviation :\",CVscore.std())"
   ]
  },
  {
   "cell_type": "code",
   "execution_count": 53,
   "id": "4c7d1de1",
   "metadata": {},
   "outputs": [
    {
     "name": "stdout",
     "output_type": "stream",
     "text": [
      "\u001b[1mRandom Forest Classifier\u001b[0m\n",
      "\n",
      "\n",
      "\u001b[1mAccuracy Score of Random Forest Classifier :\u001b[0m 0.9136\n",
      "\n",
      "\n",
      "\u001b[1mConfusion matrix of Random Forest Classifier :\u001b[0m \n",
      " [[3334    7    3    9   25]\n",
      " [  35  573    0    2    7]\n",
      " [  36    0  821   12  238]\n",
      " [  23    3    7 1746  690]\n",
      " [  79    4   14  102 7230]]\n",
      "\n",
      "\n",
      "\u001b[1mclassification Report of Random Forest Classifier\u001b[0m \n",
      "               precision    recall  f1-score   support\n",
      "\n",
      "         1.0       0.95      0.99      0.97      3378\n",
      "         2.0       0.98      0.93      0.95       617\n",
      "         3.0       0.97      0.74      0.84      1107\n",
      "         4.0       0.93      0.71      0.80      2469\n",
      "         5.0       0.88      0.97      0.93      7429\n",
      "\n",
      "    accuracy                           0.91     15000\n",
      "   macro avg       0.94      0.87      0.90     15000\n",
      "weighted avg       0.92      0.91      0.91     15000\n",
      "\n"
     ]
    }
   ],
   "source": [
    "rfc=RandomForestClassifier()\n",
    "rfc.fit(X_train,Y_train)\n",
    "y_pred=rfc.predict(X_test)\n",
    "print('\\033[1m'+'Random Forest Classifier'+'\\033[0m')\n",
    "print('\\n')\n",
    "print('\\033[1m'+'Accuracy Score of Random Forest Classifier :'+'\\033[0m', accuracy_score(Y_test, y_pred))\n",
    "print('\\n')\n",
    "print('\\033[1m'+'Confusion matrix of Random Forest Classifier :'+'\\033[0m \\n',confusion_matrix(Y_test, y_pred))\n",
    "print('\\n')\n",
    "print('\\033[1m'+'classification Report of Random Forest Classifier'+'\\033[0m \\n',classification_report(Y_test, y_pred))"
   ]
  },
  {
   "cell_type": "code",
   "execution_count": 54,
   "id": "07f8d20e",
   "metadata": {},
   "outputs": [
    {
     "name": "stdout",
     "output_type": "stream",
     "text": [
      "\u001b[1mCross Validation Score RandomForestClassifier() :\u001b[0m\n",
      "\n",
      "CVScore : [0.5587 0.4886 0.5744 0.613  0.5822]\n",
      "Mean CV Score : 0.5633800000000001\n",
      "Std deviation : 0.041356324788356144\n"
     ]
    }
   ],
   "source": [
    "from sklearn.model_selection import cross_val_score\n",
    "CVscore = cross_val_score(rfc, X, Y, cv =5)\n",
    "print('\\033[1m'+'Cross Validation Score', rfc, ':'+'\\033[0m\\n')\n",
    "print(\"CVScore :\" ,CVscore)\n",
    "print(\"Mean CV Score :\",CVscore.mean())\n",
    "print(\"Std deviation :\",CVscore.std())"
   ]
  },
  {
   "cell_type": "code",
   "execution_count": 55,
   "id": "29756117",
   "metadata": {},
   "outputs": [
    {
     "name": "stdout",
     "output_type": "stream",
     "text": [
      "\u001b[1mAdaBoost Classifier Evaluation\u001b[0m\n",
      "\n",
      "\n",
      "\u001b[1mAccuracy Score of AdaBoost Classifier :\u001b[0m 0.5932\n",
      "\n",
      "\n",
      "\u001b[1mConfusion matrix of AdaBoost Classifier :\u001b[0m \n",
      " [[1433    3   87   65 1790]\n",
      " [ 211  201    0   19  186]\n",
      " [  63    0  246   39  759]\n",
      " [ 133    3    7   41 2285]\n",
      " [ 299    5   62   86 6977]]\n",
      "\n",
      "\n",
      "\u001b[1mclassification Report of AdaBoost Classifier\u001b[0m \n",
      "               precision    recall  f1-score   support\n",
      "\n",
      "         1.0       0.67      0.42      0.52      3378\n",
      "         2.0       0.95      0.33      0.48       617\n",
      "         3.0       0.61      0.22      0.33      1107\n",
      "         4.0       0.16      0.02      0.03      2469\n",
      "         5.0       0.58      0.94      0.72      7429\n",
      "\n",
      "    accuracy                           0.59     15000\n",
      "   macro avg       0.60      0.39      0.42     15000\n",
      "weighted avg       0.55      0.59      0.52     15000\n",
      "\n"
     ]
    }
   ],
   "source": [
    "adbc=AdaBoostClassifier()\n",
    "adbc.fit(X_train,Y_train)\n",
    "y_pred=adbc.predict(X_test)\n",
    "print('\\033[1m'+'AdaBoost Classifier Evaluation'+'\\033[0m')\n",
    "print('\\n')\n",
    "print('\\033[1m'+'Accuracy Score of AdaBoost Classifier :'+'\\033[0m', accuracy_score(Y_test, y_pred))\n",
    "print('\\n')\n",
    "print('\\033[1m'+'Confusion matrix of AdaBoost Classifier :'+'\\033[0m \\n',confusion_matrix(Y_test, y_pred))\n",
    "print('\\n')\n",
    "print('\\033[1m'+'classification Report of AdaBoost Classifier'+'\\033[0m \\n',classification_report(Y_test, y_pred))"
   ]
  },
  {
   "cell_type": "code",
   "execution_count": 56,
   "id": "b594e05b",
   "metadata": {},
   "outputs": [
    {
     "name": "stdout",
     "output_type": "stream",
     "text": [
      "\u001b[1mCross Validation Score AdaBoostClassifier() :\u001b[0m\n",
      "\n",
      "CVScore : [0.4397 0.4939 0.5635 0.5533 0.5494]\n",
      "Mean CV Score : 0.51996\n",
      "Std deviation : 0.04689305279036545\n"
     ]
    }
   ],
   "source": [
    "from sklearn.model_selection import cross_val_score\n",
    "CVscore = cross_val_score(adbc, X, Y, cv =5)\n",
    "print('\\033[1m'+'Cross Validation Score',adbc, ':'+'\\033[0m\\n')\n",
    "print(\"CVScore :\" ,CVscore)\n",
    "print(\"Mean CV Score :\",CVscore.mean())\n",
    "print(\"Std deviation :\",CVscore.std())"
   ]
  },
  {
   "cell_type": "code",
   "execution_count": 57,
   "id": "48a84961",
   "metadata": {},
   "outputs": [
    {
     "name": "stdout",
     "output_type": "stream",
     "text": [
      "\u001b[1mGradient Boosting Classifier Evaluation\u001b[0m\n",
      "\n",
      "\n",
      "\u001b[1mAccuracy Score of Gradient Boosting Classifier :\u001b[0m 0.9022666666666667\n",
      "\n",
      "\n",
      "\u001b[1mConfusion matrix of Gradient Boosting Classifier :\u001b[0m \n",
      " [[3184    7    3    9  175]\n",
      " [  22  573    0    2   20]\n",
      " [  25    0  820    9  253]\n",
      " [  39    4    9 1700  717]\n",
      " [ 116    4   10   42 7257]]\n",
      "\n",
      "\n",
      "\u001b[1mclassification Report of Gradient Boosting Classifier\u001b[0m \n",
      "               precision    recall  f1-score   support\n",
      "\n",
      "         1.0       0.94      0.94      0.94      3378\n",
      "         2.0       0.97      0.93      0.95       617\n",
      "         3.0       0.97      0.74      0.84      1107\n",
      "         4.0       0.96      0.69      0.80      2469\n",
      "         5.0       0.86      0.98      0.92      7429\n",
      "\n",
      "    accuracy                           0.90     15000\n",
      "   macro avg       0.94      0.86      0.89     15000\n",
      "weighted avg       0.91      0.90      0.90     15000\n",
      "\n"
     ]
    }
   ],
   "source": [
    "grad_bc=GradientBoostingClassifier()\n",
    "grad_bc.fit(X_train,Y_train)\n",
    "y_pred=grad_bc.predict(X_test)\n",
    "print('\\033[1m'+'Gradient Boosting Classifier Evaluation'+'\\033[0m')\n",
    "print('\\n')\n",
    "print('\\033[1m'+'Accuracy Score of Gradient Boosting Classifier :'+'\\033[0m', accuracy_score(Y_test, y_pred))\n",
    "print('\\n')\n",
    "print('\\033[1m'+'Confusion matrix of Gradient Boosting Classifier :'+'\\033[0m \\n',confusion_matrix(Y_test, y_pred))\n",
    "print('\\n')\n",
    "print('\\033[1m'+'classification Report of Gradient Boosting Classifier'+'\\033[0m \\n',classification_report(Y_test, y_pred))"
   ]
  },
  {
   "cell_type": "code",
   "execution_count": 58,
   "id": "fee7e936",
   "metadata": {},
   "outputs": [
    {
     "name": "stdout",
     "output_type": "stream",
     "text": [
      "\u001b[1mCross Validation Score GradientBoostingClassifier() :\u001b[0m\n",
      "\n",
      "CVScore : [0.5675 0.5816 0.6613 0.6593 0.6081]\n",
      "Mean CV Score : 0.61556\n",
      "Std deviation : 0.038791834192262675\n"
     ]
    }
   ],
   "source": [
    "from sklearn.model_selection import cross_val_score\n",
    "CVscore = cross_val_score(grad_bc, X, Y, cv =5)\n",
    "print('\\033[1m'+'Cross Validation Score', grad_bc, ':'+'\\033[0m\\n')\n",
    "print(\"CVScore :\" ,CVscore)\n",
    "print(\"Mean CV Score :\",CVscore.mean())\n",
    "print(\"Std deviation :\",CVscore.std())"
   ]
  },
  {
   "cell_type": "code",
   "execution_count": 59,
   "id": "6ceb090e",
   "metadata": {},
   "outputs": [
    {
     "name": "stdout",
     "output_type": "stream",
     "text": [
      "\u001b[1mFinal Random Forest Classifier Model\u001b[0m\n",
      "\u001b[1mAccuracy Score :\u001b[0m\n",
      " 0.9133333333333333\n",
      "\n",
      "\n",
      "\u001b[1mConfusion matrix of Random Forest Classifier :\u001b[0m \n",
      " [[3338    7    3    9   21]\n",
      " [  35  573    0    2    7]\n",
      " [  35    0  821   12  239]\n",
      " [  28    3    7 1746  685]\n",
      " [  91    4   14   98 7222]]\n",
      "\n",
      "\n",
      "\u001b[1mClassification Report of Random Forest Classifier\u001b[0m \n",
      "               precision    recall  f1-score   support\n",
      "\n",
      "         1.0       0.95      0.99      0.97      3378\n",
      "         2.0       0.98      0.93      0.95       617\n",
      "         3.0       0.97      0.74      0.84      1107\n",
      "         4.0       0.94      0.71      0.81      2469\n",
      "         5.0       0.88      0.97      0.93      7429\n",
      "\n",
      "    accuracy                           0.91     15000\n",
      "   macro avg       0.94      0.87      0.90     15000\n",
      "weighted avg       0.92      0.91      0.91     15000\n",
      "\n"
     ]
    }
   ],
   "source": [
    "Final_mod = RandomForestClassifier(criterion='entropy',n_estimators= 150,max_features='auto')\n",
    "Final_mod.fit(X_train,Y_train)\n",
    "y_pred=Final_mod.predict(X_test)\n",
    "print('\\033[1m'+'Final Random Forest Classifier Model'+'\\033[0m')\n",
    "print('\\033[1m'+'Accuracy Score :'+'\\033[0m\\n', accuracy_score(Y_test, y_pred))\n",
    "print('\\n')\n",
    "print('\\033[1m'+'Confusion matrix of Random Forest Classifier :'+'\\033[0m \\n',confusion_matrix(Y_test, y_pred))\n",
    "print('\\n')\n",
    "print('\\033[1m'+'Classification Report of Random Forest Classifier'+'\\033[0m \\n',classification_report(Y_test, y_pred))"
   ]
  },
  {
   "cell_type": "code",
   "execution_count": null,
   "id": "184229a6",
   "metadata": {},
   "outputs": [],
   "source": []
  }
 ],
 "metadata": {
  "kernelspec": {
   "display_name": "Python 3",
   "language": "python",
   "name": "python3"
  },
  "language_info": {
   "codemirror_mode": {
    "name": "ipython",
    "version": 3
   },
   "file_extension": ".py",
   "mimetype": "text/x-python",
   "name": "python",
   "nbconvert_exporter": "python",
   "pygments_lexer": "ipython3",
   "version": "3.8.8"
  }
 },
 "nbformat": 4,
 "nbformat_minor": 5
}
